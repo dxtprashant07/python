{
 "cells": [
  {
   "cell_type": "code",
   "execution_count": 62,
   "id": "6b4e4071",
   "metadata": {},
   "outputs": [
    {
     "name": "stdout",
     "output_type": "stream",
     "text": [
      "array shhape is (4, 2)\n",
      "array dimension is 2\n",
      "array size is 8\n"
     ]
    }
   ],
   "source": [
    "import numpy as np\n",
    "arry1 =np.array([[64392, 31655], [32579, 0], [49248, 4626], [0, 0]] , dtype=np.uint16)\n",
    "print(\"array shhape is\", arry1.shape)\n",
    "print(\"array dimension is\", arry1.ndim)\n",
    "print(\"array size is\", arry1.size)"
   ]
  },
  {
   "cell_type": "code",
   "execution_count": 57,
   "id": "fc250a85",
   "metadata": {},
   "outputs": [
    {
     "name": "stdout",
     "output_type": "stream",
     "text": [
      "[[100 110]\n",
      " [120 130]\n",
      " [140 150]\n",
      " [160 170]\n",
      " [180 190]]\n"
     ]
    }
   ],
   "source": [
    "# Exercise 2: Create a 5X2 integer array from a range between 100\n",
    "# to 200 such that the difference between each element is 10\n",
    "\n",
    "import numpy as np\n",
    "\n",
    "arry1 = np.arange(100,200,10)\n",
    "arry1 = arry1.reshape(5,2)\n",
    "print(arry1)"
   ]
  },
  {
   "cell_type": "code",
   "execution_count": null,
   "id": "2e1fb771",
   "metadata": {},
   "outputs": [
    {
     "name": "stdout",
     "output_type": "stream",
     "text": [
      "[[33]\n",
      " [66]\n",
      " [99]]\n"
     ]
    }
   ],
   "source": [
    "# Exercise 3: Following is the provided numPy array. Return array\n",
    "# of items by taking the third column from all rows\n",
    "\n",
    "import numpy as np\n",
    "sample_array = np.array([[11, 22,33], [44,55,66], [77,88,99]])\n",
    "arry1 = sample_array[:,2:]\n",
    "print(arry1)"
   ]
  },
  {
   "cell_type": "code",
   "execution_count": null,
   "id": "58155c41",
   "metadata": {},
   "outputs": [
    {
     "name": "stdout",
     "output_type": "stream",
     "text": [
      "[[ 6 12]\n",
      " [30 36]\n",
      " [54 60]]\n"
     ]
    }
   ],
   "source": [
    "# Exercise 4: Return array of odd rows and even columns from\n",
    "# below numpy array\n",
    "\n",
    "import numpy as np\n",
    "sample_array = np.array([[3,6,9,12], [15,18,21,24], [27,30,33,36], [39,42,45,48], [51,54,57,60]])\n",
    "arry1 = sample_array[0::2,1::2]\n",
    "print(arry1)\n"
   ]
  },
  {
   "cell_type": "code",
   "execution_count": 37,
   "id": "070efb11",
   "metadata": {},
   "outputs": [
    {
     "name": "stdout",
     "output_type": "stream",
     "text": [
      "[[20 39 33]\n",
      " [25 25 28]]\n",
      "[[ 400 1521 1089]\n",
      " [ 625  625  784]]\n"
     ]
    }
   ],
   "source": [
    "# Exercise 5: Create a result array by adding the following two\n",
    "# NumPy arrays. Next, modify the result array by calculating the\n",
    "# square of each element\n",
    "\n",
    "import numpy as np\n",
    "array1 = np.array([[5,6,9], [21 ,18, 27]])\n",
    "array2 = np.array([[15,33,24], [4,7,1]])\n",
    "array = array1+ array2\n",
    "print(array)\n",
    "array = array**2\n",
    "print(array)"
   ]
  },
  {
   "cell_type": "code",
   "execution_count": 56,
   "id": "50017546",
   "metadata": {},
   "outputs": [
    {
     "name": "stdout",
     "output_type": "stream",
     "text": [
      "[[10 11 12]\n",
      " [13 14 15]\n",
      " [16 17 18]\n",
      " [19 20 21]\n",
      " [22 23 24]\n",
      " [25 26 27]\n",
      " [28 29 30]\n",
      " [31 32 33]]\n",
      "[array([[10, 11, 12],\n",
      "       [13, 14, 15]]), array([[16, 17, 18],\n",
      "       [19, 20, 21]]), array([[22, 23, 24],\n",
      "       [25, 26, 27]]), array([[28, 29, 30],\n",
      "       [31, 32, 33]])]\n"
     ]
    }
   ],
   "source": [
    "import numpy as np\n",
    "array1 = np.arange(10,34).reshape(8,3)\n",
    "print(array1)\n",
    "array2 = np.split(array1,4,axis=0)\n",
    "print(array2)\n"
   ]
  },
  {
   "cell_type": "code",
   "execution_count": 1,
   "id": "831a81f6",
   "metadata": {},
   "outputs": [
    {
     "name": "stdout",
     "output_type": "stream",
     "text": [
      "[[73 43 34]\n",
      " [12 22 82]\n",
      " [66 94 53]]\n",
      "[[82 22 12]\n",
      " [34 43 73]\n",
      " [53 94 66]]\n"
     ]
    }
   ],
   "source": [
    "import numpy as np\n",
    "array1 = np.array([[34,43,73],[82,22,12],[53,94,66]])\n",
    "\n",
    "arr = np.argsort(array1[1])\n",
    "array2 = array1[:,arr]\n",
    "print(array2)\n",
    "\n",
    "arr1 = np.argsort(array1[:,1])\n",
    "array1 = array1[arr1,:]\n",
    "print(array1)"
   ]
  },
  {
   "cell_type": "code",
   "execution_count": 6,
   "id": "2e8aea39",
   "metadata": {},
   "outputs": [
    {
     "name": "stdout",
     "output_type": "stream",
     "text": [
      "[82 94 73]\n",
      "[34 12 53]\n"
     ]
    }
   ],
   "source": [
    "import numpy as np\n",
    "array1 = np.array([[34,43,73],[82,22,12],[53,94,66]])\n",
    "array2 = array1.max(axis=0)\n",
    "print(array2)\n",
    "array3 =array1.min(axis=1)\n",
    "print(array3)\n"
   ]
  },
  {
   "cell_type": "code",
   "execution_count": 1,
   "id": "3a366e08",
   "metadata": {},
   "outputs": [
    {
     "name": "stdout",
     "output_type": "stream",
     "text": [
      "[[34 73]\n",
      " [82 12]\n",
      " [53 66]]\n",
      "[[34 10]\n",
      " [82 10]\n",
      " [53 10]]\n",
      "[[34 10 73]\n",
      " [82 10 12]\n",
      " [53 10 66]]\n"
     ]
    }
   ],
   "source": [
    "#q9\n",
    "\n",
    "import numpy as np\n",
    "array1 = np.array([[34,43,73],[82,22,12],[53,94,66]])\n",
    "newColumn = np.array([[10,10,10]])\n",
    "arr_new = np.delete(array1, 1, axis=1)\n",
    "print(arr_new)\n",
    "arr_new[:,1]= newColumn\n",
    "print(arr_new)\n",
    "array1[:,1] = newColumn\n",
    "print(array1)\n"
   ]
  },
  {
   "cell_type": "code",
   "execution_count": null,
   "id": "8f208403",
   "metadata": {},
   "outputs": [],
   "source": [
    "#q10\n",
    "\n",
    "import numpy as np\n",
    "array1 = np.array([[34,43,73],[82,22,12],[53,94,66]])\n",
    "newColumn = np.array([[10,10,10]])\n",
    "arr_new = np.delete(array1, 1, axis=1)\n",
    "print(arr_new)\n",
    "arr_new[:,1]= newColumn\n",
    "print(arr_new)\n",
    "array1[:,1] = newColumn\n",
    "print(array1)\n"
   ]
  },
  {
   "cell_type": "code",
   "execution_count": 108,
   "id": "9d972e5e",
   "metadata": {},
   "outputs": [
    {
     "name": "stdout",
     "output_type": "stream",
     "text": [
      "['1233', '2', '2', '2', '3', '4']\n",
      "(['1233', '2', '3', '4'], ['2', '2'])\n"
     ]
    }
   ],
   "source": [
    "def unique_list(list1):\n",
    "    list2 =[]\n",
    "    list3 = []\n",
    "    for i in list1:\n",
    "        if not str(i).isdigit():\n",
    "            return \"TypeError\" \n",
    "        elif i not in list2:\n",
    "             list2.append(i)\n",
    "        else:\n",
    "            list3.append(i)\n",
    "    return list2,list3\n",
    "\n",
    "\n",
    "n = int(input(\"Enter number of elements: \"))\n",
    "user_list = [(input(f\"Enter number {i+1}: \")) for i in range(n)]\n",
    "print(user_list)\n",
    "print(unique_list(user_list))\n"
   ]
  }
 ],
 "metadata": {
  "kernelspec": {
   "display_name": "Python 3",
   "language": "python",
   "name": "python3"
  },
  "language_info": {
   "codemirror_mode": {
    "name": "ipython",
    "version": 3
   },
   "file_extension": ".py",
   "mimetype": "text/x-python",
   "name": "python",
   "nbconvert_exporter": "python",
   "pygments_lexer": "ipython3",
   "version": "3.12.10"
  }
 },
 "nbformat": 4,
 "nbformat_minor": 5
}
