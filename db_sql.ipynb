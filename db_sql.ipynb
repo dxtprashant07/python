{
 "cells": [
  {
   "cell_type": "code",
   "execution_count": 1,
   "id": "6a092896",
   "metadata": {},
   "outputs": [
    {
     "name": "stdout",
     "output_type": "stream",
     "text": [
      "('C00005', 'Hansel Colaco', 'Mumbai', Decimal('400060'), 'Maharashtra', Decimal('2000.00'))\n"
     ]
    }
   ],
   "source": [
    "import mysql.connector\n",
    "\n",
    "# Connect to MySQL\n",
    "conn = mysql.connector.connect(\n",
    "    host=\"127.0.0.1\",\n",
    "    port = 3306,        # or your MySQL server IP\n",
    "    user=\"root\",             # your MySQL username\n",
    "    password=\".@.@pP5001707\",# your MySQL password\n",
    "    database=\"lab\"           # your database name\n",
    ")\n",
    "\n",
    "# Create a cursor\n",
    "cursor = conn.cursor()\n",
    "cursor.execute(\"SELECT *  FROM CLIENT_MASTER WHERE clientname LIKE '_a%';\")\n",
    "for row in cursor.fetchall():\n",
    "    print(row)\n",
    "\n",
    "cursor.close()\n",
    "conn.close()\n"
   ]
  },
  {
   "cell_type": "code",
   "execution_count": 2,
   "id": "1352a11b",
   "metadata": {},
   "outputs": [
    {
     "name": "stdout",
     "output_type": "stream",
     "text": [
      "('C00001', 'John Doe', 'Mumbai', Decimal('400054'), 'Maharashtra', Decimal('15000.00'))\n",
      "('C00002', 'Amit Kumar', 'Mumbai', Decimal('400057'), 'Maharashtra', Decimal('5000.00'))\n",
      "('C00005', 'Hansel Colaco', 'Mumbai', Decimal('400060'), 'Maharashtra', Decimal('2000.00'))\n",
      "('C00006', 'Deepak Sharma', 'Mangalore', Decimal('560050'), 'Karnataka', Decimal('0.00'))\n"
     ]
    }
   ],
   "source": [
    "import mysql.connector\n",
    "\n",
    "# Connect to MySQL\n",
    "conn = mysql.connector.connect(\n",
    "    host=\"127.0.0.1\",\n",
    "    port = 3306,        # or your MySQL server IP\n",
    "    user=\"root\",             # your MySQL username\n",
    "    password=\".@.@pP5001707\",# your MySQL password\n",
    "    database=\"lab\"           # your database name\n",
    ")\n",
    "\n",
    "# Create a cursor\n",
    "cursor = conn.cursor()\n",
    "cursor.execute(\"SELECT *  FROM CLIENT_MASTER WHERE city LIKE 'm%';\")\n",
    "for row in cursor.fetchall():\n",
    "    print(row)\n",
    "\n",
    "cursor.close()\n",
    "conn.close()\n"
   ]
  },
  {
   "cell_type": "code",
   "execution_count": 11,
   "id": "45e50c5b",
   "metadata": {},
   "outputs": [
    {
     "name": "stdout",
     "output_type": "stream",
     "text": [
      "('C00004', 'Ashwini Joshi', 'Bangalore', Decimal('560001'), 'Karnataka', Decimal('0.00'))\n",
      "('C00006', 'Deepak Sharma', 'Mangalore', Decimal('560050'), 'Karnataka', Decimal('0.00'))\n"
     ]
    }
   ],
   "source": [
    "import mysql.connector\n",
    "\n",
    "# Connect to MySQL\n",
    "conn = mysql.connector.connect(\n",
    "    host=\"127.0.0.1\",\n",
    "    port = 3306,        # or your MySQL server IP\n",
    "    user=\"root\",             # your MySQL username\n",
    "    password=\".@.@pP5001707\",# your MySQL password\n",
    "    database=\"lab\"           # your database name\n",
    ")\n",
    "\n",
    "# Create a cursor\n",
    "cursor = conn.cursor()\n",
    "cursor.execute(\"SELECT *  FROM CLIENT_MASTER WHERE city in ('Bangalore', 'Mangalore');\")\n",
    "for row in cursor.fetchall():\n",
    "    print(row)\n",
    "\n",
    "cursor.close()\n",
    "conn.close()\n"
   ]
  },
  {
   "cell_type": "code",
   "execution_count": 12,
   "id": "a392fd90",
   "metadata": {},
   "outputs": [
    {
     "name": "stdout",
     "output_type": "stream",
     "text": [
      "('C00001', 'John Doe', 'Mumbai', Decimal('400054'), 'Maharashtra', Decimal('15000.00'))\n",
      "('C00002', 'Amit Kumar', 'Mumbai', Decimal('400057'), 'Maharashtra', Decimal('5000.00'))\n",
      "('C00005', 'Hansel Colaco', 'Mumbai', Decimal('400060'), 'Maharashtra', Decimal('2000.00'))\n"
     ]
    }
   ],
   "source": [
    "import mysql.connector\n",
    "\n",
    "# Connect to MySQL\n",
    "conn = mysql.connector.connect(\n",
    "    host=\"127.0.0.1\",\n",
    "    port = 3306,        # or your MySQL server IP\n",
    "    user=\"root\",             # your MySQL username\n",
    "    password=\".@.@pP5001707\",# your MySQL password\n",
    "    database=\"lab\"           # your database name\n",
    ")\n",
    "\n",
    "# Create a cursor\n",
    "cursor = conn.cursor()\n",
    "cursor.execute(\"SELECT *  FROM CLIENT_MASTER WHERE  (baldue> 1000);\")\n",
    "for row in cursor.fetchall():\n",
    "    print(row)\n",
    "\n",
    "cursor.close()\n",
    "conn.close()\n"
   ]
  },
  {
   "cell_type": "code",
   "execution_count": null,
   "id": "9b7a8e1b",
   "metadata": {},
   "outputs": [
    {
     "name": "stdout",
     "output_type": "stream",
     "text": [
      "('C00001', 'John Doe', 'Mumbai', Decimal('400054'), 'Maharashtra', Decimal('15000.00'))\n",
      "('C00002', 'Amit Kumar', 'Mumbai', Decimal('400057'), 'Maharashtra', Decimal('5000.00'))\n",
      "('C00005', 'Hansel Colaco', 'Mumbai', Decimal('400060'), 'Maharashtra', Decimal('2000.00'))\n"
     ]
    }
   ],
   "source": [
    "]"
   ]
  },
  {
   "cell_type": "code",
   "execution_count": 16,
   "id": "2becc066",
   "metadata": {},
   "outputs": [
    {
     "name": "stdout",
     "output_type": "stream",
     "text": [
      "('O19001', 'C00001', datetime.date(2012, 6, 2), 'Delhi', 'S00001', 'F', 'N', datetime.date(2020, 7, 2), 'In Process')\n",
      "('O19002', 'C00002', datetime.date(2025, 6, 2), 'Delhi', 'S00002', 'P', 'N', datetime.date(2027, 7, 2), 'Cancelled')\n"
     ]
    }
   ],
   "source": [
    "import mysql.connector\n",
    "\n",
    "# Connect to MySQL\n",
    "conn = mysql.connector.connect(\n",
    "    host=\"127.0.0.1\",\n",
    "    port = 3306,        # or your MySQL server IP\n",
    "    user=\"root\",             # your MySQL username\n",
    "    password=\".@.@pP5001707\",# your MySQL password\n",
    "    database=\"lab\"           # your database name\n",
    ")\n",
    "\n",
    "# Create a cursor\n",
    "cursor = conn.cursor()\n",
    "cursor.execute(\"SELECT *  FROM SALES_ORDER WHERE MONTH(ORDERDATE)= 6;\")\n",
    "for row in cursor.fetchall():\n",
    "    print(row)\n",
    "\n",
    "cursor.close()\n",
    "conn.close()\n"
   ]
  },
  {
   "cell_type": "code",
   "execution_count": 18,
   "id": "bdc01c33",
   "metadata": {},
   "outputs": [
    {
     "name": "stdout",
     "output_type": "stream",
     "text": [
      "('O19001', 2)\n",
      "('O19002', 2)\n",
      "('O19003', 2)\n",
      "('O19008', 2)\n",
      "('O46865', 18)\n",
      "('O46866', 2)\n"
     ]
    }
   ],
   "source": [
    "#f. List the Order No &amp; day on which clients placed their order.\n",
    "\n",
    "\n",
    "import mysql.connector\n",
    "\n",
    "# Connect to MySQL\n",
    "conn = mysql.connector.connect(\n",
    "    host=\"127.0.0.1\",\n",
    "    port = 3306,        # or your MySQL server IP\n",
    "    user=\"root\",             # your MySQL username\n",
    "    password=\".@.@pP5001707\",# your MySQL password\n",
    "    database=\"lab\"           # your database name\n",
    ")\n",
    "\n",
    "# Create a cursor\n",
    "cursor = conn.cursor()\n",
    "cursor.execute(\"SELECT ORDERNO,DAY(ORDERDATE) FROM SALES_ORDER ;\")\n",
    "for row in cursor.fetchall():\n",
    "    print(row)\n",
    "\n",
    "cursor.close()\n",
    "conn.close()\n"
   ]
  },
  {
   "cell_type": "code",
   "execution_count": null,
   "id": "cab6db95",
   "metadata": {},
   "outputs": [
    {
     "ename": "ProgrammingError",
     "evalue": "1054 (42S22): Unknown column 'clientname' in 'field list'",
     "output_type": "error",
     "traceback": [
      "\u001b[31m---------------------------------------------------------------------------\u001b[39m",
      "\u001b[31mProgrammingError\u001b[39m                          Traceback (most recent call last)",
      "\u001b[36mCell\u001b[39m\u001b[36m \u001b[39m\u001b[32mIn[22]\u001b[39m\u001b[32m, line 17\u001b[39m\n\u001b[32m     15\u001b[39m \u001b[38;5;66;03m# Create a cursor\u001b[39;00m\n\u001b[32m     16\u001b[39m cursor = conn.cursor()\n\u001b[32m---> \u001b[39m\u001b[32m17\u001b[39m \u001b[43mcursor\u001b[49m\u001b[43m.\u001b[49m\u001b[43mexecute\u001b[49m\u001b[43m(\u001b[49m\u001b[33;43m\"\u001b[39;49m\u001b[33;43mSELECT clientname,city, state CLIENT_MASTER WHERE state != \u001b[39;49m\u001b[33;43m'\u001b[39;49m\u001b[33;43mmaharashtra\u001b[39;49m\u001b[33;43m'\u001b[39;49m\u001b[33;43m;\u001b[39;49m\u001b[33;43m\"\u001b[39;49m\u001b[43m)\u001b[49m\n\u001b[32m     18\u001b[39m \u001b[38;5;28;01mfor\u001b[39;00m row \u001b[38;5;129;01min\u001b[39;00m cursor.fetchall():\n\u001b[32m     19\u001b[39m     \u001b[38;5;28mprint\u001b[39m(row)\n",
      "\u001b[36mFile \u001b[39m\u001b[32m~\\AppData\\Roaming\\Python\\Python312\\site-packages\\mysql\\connector\\cursor.py:416\u001b[39m, in \u001b[36mMySQLCursor.execute\u001b[39m\u001b[34m(self, operation, params, map_results)\u001b[39m\n\u001b[32m    408\u001b[39m \u001b[38;5;28mself\u001b[39m._executed_list = \u001b[38;5;28mself\u001b[39m._stmt_partition[\u001b[33m\"\u001b[39m\u001b[33msingle_stmts\u001b[39m\u001b[33m\"\u001b[39m]\n\u001b[32m    409\u001b[39m \u001b[38;5;28mself\u001b[39m._executed = (\n\u001b[32m    410\u001b[39m     \u001b[38;5;28mself\u001b[39m._stmt_partition[\u001b[33m\"\u001b[39m\u001b[33msingle_stmts\u001b[39m\u001b[33m\"\u001b[39m].popleft()\n\u001b[32m    411\u001b[39m     \u001b[38;5;28;01mif\u001b[39;00m map_results\n\u001b[32m    412\u001b[39m     \u001b[38;5;28;01melse\u001b[39;00m \u001b[38;5;28mself\u001b[39m._stmt_partition[\u001b[33m\"\u001b[39m\u001b[33mmappable_stmt\u001b[39m\u001b[33m\"\u001b[39m]\n\u001b[32m    413\u001b[39m )\n\u001b[32m    415\u001b[39m \u001b[38;5;28mself\u001b[39m._handle_result(\n\u001b[32m--> \u001b[39m\u001b[32m416\u001b[39m     \u001b[38;5;28;43mself\u001b[39;49m\u001b[43m.\u001b[49m\u001b[43m_connection\u001b[49m\u001b[43m.\u001b[49m\u001b[43mcmd_query\u001b[49m\u001b[43m(\u001b[49m\n\u001b[32m    417\u001b[39m \u001b[43m        \u001b[49m\u001b[38;5;28;43mself\u001b[39;49m\u001b[43m.\u001b[49m\u001b[43m_stmt_partition\u001b[49m\u001b[43m[\u001b[49m\u001b[33;43m\"\u001b[39;49m\u001b[33;43mmappable_stmt\u001b[39;49m\u001b[33;43m\"\u001b[39;49m\u001b[43m]\u001b[49m\u001b[43m,\u001b[49m\n\u001b[32m    418\u001b[39m \u001b[43m        \u001b[49m\u001b[43mread_timeout\u001b[49m\u001b[43m=\u001b[49m\u001b[38;5;28;43mself\u001b[39;49m\u001b[43m.\u001b[49m\u001b[43m_read_timeout\u001b[49m\u001b[43m,\u001b[49m\n\u001b[32m    419\u001b[39m \u001b[43m        \u001b[49m\u001b[43mwrite_timeout\u001b[49m\u001b[43m=\u001b[49m\u001b[38;5;28;43mself\u001b[39;49m\u001b[43m.\u001b[49m\u001b[43m_write_timeout\u001b[49m\u001b[43m,\u001b[49m\n\u001b[32m    420\u001b[39m \u001b[43m    \u001b[49m\u001b[43m)\u001b[49m\n\u001b[32m    421\u001b[39m )\n\u001b[32m    423\u001b[39m \u001b[38;5;28;01mreturn\u001b[39;00m \u001b[38;5;28;01mNone\u001b[39;00m\n",
      "\u001b[36mFile \u001b[39m\u001b[32m~\\AppData\\Roaming\\Python\\Python312\\site-packages\\mysql\\connector\\opentelemetry\\context_propagation.py:97\u001b[39m, in \u001b[36mwith_context_propagation.<locals>.wrapper\u001b[39m\u001b[34m(cnx, *args, **kwargs)\u001b[39m\n\u001b[32m     95\u001b[39m \u001b[38;5;66;03m# pylint: disable=possibly-used-before-assignment\u001b[39;00m\n\u001b[32m     96\u001b[39m \u001b[38;5;28;01mif\u001b[39;00m \u001b[38;5;129;01mnot\u001b[39;00m OTEL_ENABLED \u001b[38;5;129;01mor\u001b[39;00m \u001b[38;5;129;01mnot\u001b[39;00m cnx.otel_context_propagation:\n\u001b[32m---> \u001b[39m\u001b[32m97\u001b[39m     \u001b[38;5;28;01mreturn\u001b[39;00m \u001b[43mmethod\u001b[49m\u001b[43m(\u001b[49m\u001b[43mcnx\u001b[49m\u001b[43m,\u001b[49m\u001b[43m \u001b[49m\u001b[43m*\u001b[49m\u001b[43margs\u001b[49m\u001b[43m,\u001b[49m\u001b[43m \u001b[49m\u001b[43m*\u001b[49m\u001b[43m*\u001b[49m\u001b[43mkwargs\u001b[49m\u001b[43m)\u001b[49m\n\u001b[32m     99\u001b[39m current_span = trace.get_current_span()\n\u001b[32m    100\u001b[39m tp_header = \u001b[38;5;28;01mNone\u001b[39;00m\n",
      "\u001b[36mFile \u001b[39m\u001b[32m~\\AppData\\Roaming\\Python\\Python312\\site-packages\\mysql\\connector\\_decorating.py:89\u001b[39m, in \u001b[36mhandle_read_write_timeout.<locals>.decorator.<locals>.handle_cnx_method\u001b[39m\u001b[34m(cnx, *args, **kwargs)\u001b[39m\n\u001b[32m     87\u001b[39m \u001b[38;5;28;01mif\u001b[39;00m \u001b[38;5;28misinstance\u001b[39m(err, \u001b[38;5;167;01mTimeoutError\u001b[39;00m):\n\u001b[32m     88\u001b[39m     cnx.close()\n\u001b[32m---> \u001b[39m\u001b[32m89\u001b[39m \u001b[38;5;28;01mraise\u001b[39;00m err\n",
      "\u001b[36mFile \u001b[39m\u001b[32m~\\AppData\\Roaming\\Python\\Python312\\site-packages\\mysql\\connector\\_decorating.py:85\u001b[39m, in \u001b[36mhandle_read_write_timeout.<locals>.decorator.<locals>.handle_cnx_method\u001b[39m\u001b[34m(cnx, *args, **kwargs)\u001b[39m\n\u001b[32m     80\u001b[39m \u001b[38;5;129m@functools\u001b[39m.wraps(cnx_method)\n\u001b[32m     81\u001b[39m \u001b[38;5;28;01mdef\u001b[39;00m\u001b[38;5;250m \u001b[39m\u001b[34mhandle_cnx_method\u001b[39m(\n\u001b[32m     82\u001b[39m     cnx: \u001b[33m\"\u001b[39m\u001b[33mMySQLConnectionAbstract\u001b[39m\u001b[33m\"\u001b[39m, *args: Any, **kwargs: Any\n\u001b[32m     83\u001b[39m ) -> Any:\n\u001b[32m     84\u001b[39m     \u001b[38;5;28;01mtry\u001b[39;00m:\n\u001b[32m---> \u001b[39m\u001b[32m85\u001b[39m         \u001b[38;5;28;01mreturn\u001b[39;00m \u001b[43mcnx_method\u001b[49m\u001b[43m(\u001b[49m\u001b[43mcnx\u001b[49m\u001b[43m,\u001b[49m\u001b[43m \u001b[49m\u001b[43m*\u001b[49m\u001b[43margs\u001b[49m\u001b[43m,\u001b[49m\u001b[43m \u001b[49m\u001b[43m*\u001b[49m\u001b[43m*\u001b[49m\u001b[43mkwargs\u001b[49m\u001b[43m)\u001b[49m\n\u001b[32m     86\u001b[39m     \u001b[38;5;28;01mexcept\u001b[39;00m \u001b[38;5;167;01mException\u001b[39;00m \u001b[38;5;28;01mas\u001b[39;00m err:\n\u001b[32m     87\u001b[39m         \u001b[38;5;28;01mif\u001b[39;00m \u001b[38;5;28misinstance\u001b[39m(err, \u001b[38;5;167;01mTimeoutError\u001b[39;00m):\n",
      "\u001b[36mFile \u001b[39m\u001b[32m~\\AppData\\Roaming\\Python\\Python312\\site-packages\\mysql\\connector\\connection.py:984\u001b[39m, in \u001b[36mMySQLConnection.cmd_query\u001b[39m\u001b[34m(self, query, raw, buffered, raw_as_string, **kwargs)\u001b[39m\n\u001b[32m    981\u001b[39m     read_timeout = kwargs.get(\u001b[33m\"\u001b[39m\u001b[33mread_timeout\u001b[39m\u001b[33m\"\u001b[39m, \u001b[38;5;28;01mNone\u001b[39;00m)\n\u001b[32m    982\u001b[39m     write_timeout = kwargs.get(\u001b[33m\"\u001b[39m\u001b[33mwrite_timeout\u001b[39m\u001b[33m\"\u001b[39m, \u001b[38;5;28;01mNone\u001b[39;00m)\n\u001b[32m--> \u001b[39m\u001b[32m984\u001b[39m     result = \u001b[38;5;28;43mself\u001b[39;49m\u001b[43m.\u001b[49m\u001b[43m_handle_result\u001b[49m\u001b[43m(\u001b[49m\n\u001b[32m    985\u001b[39m \u001b[43m        \u001b[49m\u001b[38;5;28;43mself\u001b[39;49m\u001b[43m.\u001b[49m\u001b[43m_send_cmd\u001b[49m\u001b[43m(\u001b[49m\n\u001b[32m    986\u001b[39m \u001b[43m            \u001b[49m\u001b[43mServerCmd\u001b[49m\u001b[43m.\u001b[49m\u001b[43mQUERY\u001b[49m\u001b[43m,\u001b[49m\n\u001b[32m    987\u001b[39m \u001b[43m            \u001b[49m\u001b[43mquery\u001b[49m\u001b[43m,\u001b[49m\n\u001b[32m    988\u001b[39m \u001b[43m            \u001b[49m\u001b[43mread_timeout\u001b[49m\u001b[43m=\u001b[49m\u001b[43mread_timeout\u001b[49m\u001b[43m,\u001b[49m\n\u001b[32m    989\u001b[39m \u001b[43m            \u001b[49m\u001b[43mwrite_timeout\u001b[49m\u001b[43m=\u001b[49m\u001b[43mwrite_timeout\u001b[49m\u001b[43m,\u001b[49m\n\u001b[32m    990\u001b[39m \u001b[43m        \u001b[49m\u001b[43m)\u001b[49m\u001b[43m,\u001b[49m\n\u001b[32m    991\u001b[39m \u001b[43m        \u001b[49m\u001b[43mread_timeout\u001b[49m\u001b[43m,\u001b[49m\n\u001b[32m    992\u001b[39m \u001b[43m        \u001b[49m\u001b[43mwrite_timeout\u001b[49m\u001b[43m,\u001b[49m\n\u001b[32m    993\u001b[39m \u001b[43m    \u001b[49m\u001b[43m)\u001b[49m\n\u001b[32m    994\u001b[39m \u001b[38;5;28;01mexcept\u001b[39;00m ProgrammingError \u001b[38;5;28;01mas\u001b[39;00m err:\n\u001b[32m    995\u001b[39m     \u001b[38;5;28;01mif\u001b[39;00m err.errno == \u001b[32m3948\u001b[39m \u001b[38;5;129;01mand\u001b[39;00m \u001b[33m\"\u001b[39m\u001b[33mLoading local data is disabled\u001b[39m\u001b[33m\"\u001b[39m \u001b[38;5;129;01min\u001b[39;00m err.msg:\n",
      "\u001b[36mFile \u001b[39m\u001b[32m~\\AppData\\Roaming\\Python\\Python312\\site-packages\\mysql\\connector\\_decorating.py:89\u001b[39m, in \u001b[36mhandle_read_write_timeout.<locals>.decorator.<locals>.handle_cnx_method\u001b[39m\u001b[34m(cnx, *args, **kwargs)\u001b[39m\n\u001b[32m     87\u001b[39m \u001b[38;5;28;01mif\u001b[39;00m \u001b[38;5;28misinstance\u001b[39m(err, \u001b[38;5;167;01mTimeoutError\u001b[39;00m):\n\u001b[32m     88\u001b[39m     cnx.close()\n\u001b[32m---> \u001b[39m\u001b[32m89\u001b[39m \u001b[38;5;28;01mraise\u001b[39;00m err\n",
      "\u001b[36mFile \u001b[39m\u001b[32m~\\AppData\\Roaming\\Python\\Python312\\site-packages\\mysql\\connector\\_decorating.py:85\u001b[39m, in \u001b[36mhandle_read_write_timeout.<locals>.decorator.<locals>.handle_cnx_method\u001b[39m\u001b[34m(cnx, *args, **kwargs)\u001b[39m\n\u001b[32m     80\u001b[39m \u001b[38;5;129m@functools\u001b[39m.wraps(cnx_method)\n\u001b[32m     81\u001b[39m \u001b[38;5;28;01mdef\u001b[39;00m\u001b[38;5;250m \u001b[39m\u001b[34mhandle_cnx_method\u001b[39m(\n\u001b[32m     82\u001b[39m     cnx: \u001b[33m\"\u001b[39m\u001b[33mMySQLConnectionAbstract\u001b[39m\u001b[33m\"\u001b[39m, *args: Any, **kwargs: Any\n\u001b[32m     83\u001b[39m ) -> Any:\n\u001b[32m     84\u001b[39m     \u001b[38;5;28;01mtry\u001b[39;00m:\n\u001b[32m---> \u001b[39m\u001b[32m85\u001b[39m         \u001b[38;5;28;01mreturn\u001b[39;00m \u001b[43mcnx_method\u001b[49m\u001b[43m(\u001b[49m\u001b[43mcnx\u001b[49m\u001b[43m,\u001b[49m\u001b[43m \u001b[49m\u001b[43m*\u001b[49m\u001b[43margs\u001b[49m\u001b[43m,\u001b[49m\u001b[43m \u001b[49m\u001b[43m*\u001b[49m\u001b[43m*\u001b[49m\u001b[43mkwargs\u001b[49m\u001b[43m)\u001b[49m\n\u001b[32m     86\u001b[39m     \u001b[38;5;28;01mexcept\u001b[39;00m \u001b[38;5;167;01mException\u001b[39;00m \u001b[38;5;28;01mas\u001b[39;00m err:\n\u001b[32m     87\u001b[39m         \u001b[38;5;28;01mif\u001b[39;00m \u001b[38;5;28misinstance\u001b[39m(err, \u001b[38;5;167;01mTimeoutError\u001b[39;00m):\n",
      "\u001b[36mFile \u001b[39m\u001b[32m~\\AppData\\Roaming\\Python\\Python312\\site-packages\\mysql\\connector\\connection.py:745\u001b[39m, in \u001b[36mMySQLConnection._handle_result\u001b[39m\u001b[34m(self, packet, read_timeout, write_timeout)\u001b[39m\n\u001b[32m    743\u001b[39m     \u001b[38;5;28;01mreturn\u001b[39;00m \u001b[38;5;28mself\u001b[39m._handle_eof(packet)\n\u001b[32m    744\u001b[39m \u001b[38;5;28;01mif\u001b[39;00m packet[\u001b[32m4\u001b[39m] == ERR_STATUS:\n\u001b[32m--> \u001b[39m\u001b[32m745\u001b[39m     \u001b[38;5;28;01mraise\u001b[39;00m get_exception(packet)\n\u001b[32m    747\u001b[39m \u001b[38;5;66;03m# We have a text result set\u001b[39;00m\n\u001b[32m    748\u001b[39m column_count = \u001b[38;5;28mself\u001b[39m._protocol.parse_column_count(packet)\n",
      "\u001b[31mProgrammingError\u001b[39m: 1054 (42S22): Unknown column 'clientname' in 'field list'"
     ]
    }
   ],
   "source": [
    "# List the names, city and state of clients who are not in the state of ‘Maharashtra’.\n",
    "\n",
    "\n",
    "import mysql.connector\n",
    "\n",
    "# Connect to MySQL\n",
    "conn = mysql.connector.connect(\n",
    "    host=\"127.0.0.1\",\n",
    "    port = 3306,        # or your MySQL server IP\n",
    "    user=\"root\",             # your MySQL username\n",
    "    password=\".@.@pP5001707\",# your MySQL password\n",
    "    database=\"lab\"           # your database name\n",
    ")\n",
    "\n",
    "# Create a cursor\n",
    "cursor = conn.cursor()\n",
    "cursor.execute(\"SELECT clientname,city, state CLIENT_MASTER WHERE state != 'maharashtra';\")\n",
    "for row in cursor.fetchall():\n",
    "    print(row)\n",
    "\n",
    "cursor.close()\n",
    "conn.close()\n"
   ]
  }
 ],
 "metadata": {
  "kernelspec": {
   "display_name": "Python 3",
   "language": "python",
   "name": "python3"
  },
  "language_info": {
   "codemirror_mode": {
    "name": "ipython",
    "version": 3
   },
   "file_extension": ".py",
   "mimetype": "text/x-python",
   "name": "python",
   "nbconvert_exporter": "python",
   "pygments_lexer": "ipython3",
   "version": "3.12.10"
  }
 },
 "nbformat": 4,
 "nbformat_minor": 5
}
