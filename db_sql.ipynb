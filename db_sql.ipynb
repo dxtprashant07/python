{
 "cells": [
  {
   "cell_type": "code",
   "execution_count": null,
   "id": "115a3094",
   "metadata": {},
   "outputs": [],
   "source": [
    "# 3. Generate the SQL statements to perform the following computations on\n",
    "# table data in Python IDLE:"
   ]
  },
  {
   "cell_type": "code",
   "execution_count": null,
   "id": "6a092896",
   "metadata": {},
   "outputs": [
    {
     "name": "stdout",
     "output_type": "stream",
     "text": [
      "('C00005', 'Hansel Colaco', 'Mumbai', Decimal('400060'), 'Maharashtra', Decimal('2000.00'))\n"
     ]
    }
   ],
   "source": [
    "# a. List the names of all clients having ‘a’ as the second letter in their names.\n",
    "\n",
    "\n",
    "\n",
    "import mysql.connector\n",
    "\n",
    "# Connect to MySQL\n",
    "conn = mysql.connector.connect(\n",
    "    host=\"127.0.0.1\",\n",
    "    port = 3306,        # or your MySQL server IP\n",
    "    user=\"root\",             # your MySQL username\n",
    "    password=\".@.@pP5001707\",# your MySQL password\n",
    "    database=\"lab\"           # your database name\n",
    ")\n",
    "\n",
    "# Create a cursor\n",
    "cursor = conn.cursor()\n",
    "cursor.execute(\"SELECT *  FROM CLIENT_MASTER WHERE clientname LIKE '_a%';\")\n",
    "for row in cursor.fetchall():\n",
    "    print(row)\n",
    "\n",
    "cursor.close()\n",
    "conn.close()\n"
   ]
  },
  {
   "cell_type": "code",
   "execution_count": null,
   "id": "1352a11b",
   "metadata": {},
   "outputs": [
    {
     "name": "stdout",
     "output_type": "stream",
     "text": [
      "('C00001', 'John Doe', 'Mumbai', Decimal('400054'), 'Maharashtra', Decimal('15000.00'))\n",
      "('C00002', 'Amit Kumar', 'Mumbai', Decimal('400057'), 'Maharashtra', Decimal('5000.00'))\n",
      "('C00005', 'Hansel Colaco', 'Mumbai', Decimal('400060'), 'Maharashtra', Decimal('2000.00'))\n",
      "('C00006', 'Deepak Sharma', 'Mangalore', Decimal('560050'), 'Karnataka', Decimal('0.00'))\n"
     ]
    }
   ],
   "source": [
    "# b. List the clients who stay in a city whose first letter is ‘M’.\n",
    "\n",
    "import mysql.connector\n",
    "\n",
    "# Connect to MySQL\n",
    "conn = mysql.connector.connect(\n",
    "    host=\"127.0.0.1\",\n",
    "    port = 3306,        # or your MySQL server IP\n",
    "    user=\"root\",             # your MySQL username\n",
    "    password=\".@.@pP5001707\",# your MySQL password\n",
    "    database=\"lab\"           # your database name\n",
    ")\n",
    "\n",
    "# Create a cursor\n",
    "cursor = conn.cursor()\n",
    "cursor.execute(\"SELECT *  FROM CLIENT_MASTER WHERE city LIKE 'm%';\")\n",
    "for row in cursor.fetchall():\n",
    "    print(row)\n",
    "\n",
    "cursor.close()\n",
    "conn.close()\n"
   ]
  },
  {
   "cell_type": "code",
   "execution_count": null,
   "id": "45e50c5b",
   "metadata": {},
   "outputs": [
    {
     "name": "stdout",
     "output_type": "stream",
     "text": [
      "('C00004', 'Ashwini Joshi', 'Bangalore', Decimal('560001'), 'Karnataka', Decimal('0.00'))\n",
      "('C00006', 'Deepak Sharma', 'Mangalore', Decimal('560050'), 'Karnataka', Decimal('0.00'))\n"
     ]
    }
   ],
   "source": [
    "# c. List all clients who stay in ‘Bangalore’ or ‘Mangalore’.\n",
    "\n",
    "import mysql.connector\n",
    "\n",
    "# Connect to MySQL\n",
    "conn = mysql.connector.connect(\n",
    "    host=\"127.0.0.1\",\n",
    "    port = 3306,        # or your MySQL server IP\n",
    "    user=\"root\",             # your MySQL username\n",
    "    password=\".@.@pP5001707\",# your MySQL password\n",
    "    database=\"lab\"           # your database name\n",
    ")\n",
    "\n",
    "# Create a cursor\n",
    "cursor = conn.cursor()\n",
    "cursor.execute(\"SELECT *  FROM CLIENT_MASTER WHERE city in ('Bangalore', 'Mangalore');\")\n",
    "for row in cursor.fetchall():\n",
    "    print(row)\n",
    "\n",
    "cursor.close()\n",
    "conn.close()\n"
   ]
  },
  {
   "cell_type": "code",
   "execution_count": null,
   "id": "a392fd90",
   "metadata": {},
   "outputs": [
    {
     "name": "stdout",
     "output_type": "stream",
     "text": [
      "('C00001', 'John Doe', 'Mumbai', Decimal('400054'), 'Maharashtra', Decimal('15000.00'))\n",
      "('C00002', 'Amit Kumar', 'Mumbai', Decimal('400057'), 'Maharashtra', Decimal('5000.00'))\n",
      "('C00005', 'Hansel Colaco', 'Mumbai', Decimal('400060'), 'Maharashtra', Decimal('2000.00'))\n"
     ]
    }
   ],
   "source": [
    "# d. List all clients whose BalDue is greater than value 10000.\n",
    "\n",
    "import mysql.connector\n",
    "\n",
    "# Connect to MySQL\n",
    "conn = mysql.connector.connect(\n",
    "    host=\"127.0.0.1\",\n",
    "    port = 3306,        # or your MySQL server IP\n",
    "    user=\"root\",             # your MySQL username\n",
    "    password=\".@.@pP5001707\",# your MySQL password\n",
    "    database=\"lab\"           # your database name\n",
    ")\n",
    "\n",
    "# Create a cursor\n",
    "cursor = conn.cursor()\n",
    "cursor.execute(\"SELECT *  FROM CLIENT_MASTER WHERE  (baldue> 1000);\")\n",
    "for row in cursor.fetchall():\n",
    "    print(row)\n",
    "\n",
    "cursor.close()\n",
    "conn.close()\n"
   ]
  },
  {
   "cell_type": "code",
   "execution_count": null,
   "id": "2becc066",
   "metadata": {},
   "outputs": [
    {
     "name": "stdout",
     "output_type": "stream",
     "text": [
      "('O19001', 'C00001', datetime.date(2012, 6, 2), 'Delhi', 'S00001', 'F', 'N', datetime.date(2020, 7, 2), 'In Process')\n",
      "('O19002', 'C00002', datetime.date(2025, 6, 2), 'Delhi', 'S00002', 'P', 'N', datetime.date(2027, 7, 2), 'Cancelled')\n"
     ]
    }
   ],
   "source": [
    "# e. List all information from the Sales_order table for order placed in the month of\n",
    "# June.\n",
    "\n",
    "\n",
    "import mysql.connector\n",
    "\n",
    "# Connect to MySQL\n",
    "conn = mysql.connector.connect(\n",
    "    host=\"127.0.0.1\",\n",
    "    port = 3306,        # or your MySQL server IP\n",
    "    user=\"root\",             # your MySQL username\n",
    "    password=\".@.@pP5001707\",# your MySQL password\n",
    "    database=\"lab\"           # your database name\n",
    ")\n",
    "\n",
    "# Create a cursor\n",
    "cursor = conn.cursor()\n",
    "cursor.execute(\"SELECT *  FROM SALES_ORDER WHERE MONTH(ORDERDATE)= 6;\")\n",
    "for row in cursor.fetchall():\n",
    "    print(row)\n",
    "\n",
    "cursor.close()\n",
    "conn.close()\n"
   ]
  },
  {
   "cell_type": "code",
   "execution_count": 18,
   "id": "bdc01c33",
   "metadata": {},
   "outputs": [
    {
     "name": "stdout",
     "output_type": "stream",
     "text": [
      "('O19001', 2)\n",
      "('O19002', 2)\n",
      "('O19003', 2)\n",
      "('O19008', 2)\n",
      "('O46865', 18)\n",
      "('O46866', 2)\n"
     ]
    }
   ],
   "source": [
    "#f. List the Order No &amp; day on which clients placed their order.\n",
    "\n",
    "\n",
    "import mysql.connector\n",
    "\n",
    "# Connect to MySQL\n",
    "conn = mysql.connector.connect(\n",
    "    host=\"127.0.0.1\",\n",
    "    port = 3306,        # or your MySQL server IP\n",
    "    user=\"root\",             # your MySQL username\n",
    "    password=\".@.@pP5001707\",# your MySQL password\n",
    "    database=\"lab\"           # your database name\n",
    ")\n",
    "\n",
    "# Create a cursor\n",
    "cursor = conn.cursor()\n",
    "cursor.execute(\"SELECT ORDERNO,DAY(ORDERDATE) FROM SALES_ORDER ;\")\n",
    "for row in cursor.fetchall():\n",
    "    print(row)\n",
    "\n",
    "cursor.close()\n",
    "conn.close()\n"
   ]
  },
  {
   "cell_type": "code",
   "execution_count": 3,
   "id": "cab6db95",
   "metadata": {},
   "outputs": [
    {
     "name": "stdout",
     "output_type": "stream",
     "text": [
      "('Ashwini Joshi', 'Bangalore', 'Karnataka')\n",
      "('Deepak Sharma', 'Mangalore', 'Karnataka')\n"
     ]
    }
   ],
   "source": [
    "# List the names, city and state of clients who are not in the state of ‘Maharashtra’.\n",
    "\n",
    "\n",
    "import mysql.connector\n",
    "\n",
    "# Connect to MySQL\n",
    "conn = mysql.connector.connect(\n",
    "    host=\"127.0.0.1\",\n",
    "    port = 3306,        # or your MySQL server IP\n",
    "    user=\"root\",             # your MySQL username\n",
    "    password=\".@.@pP5001707\",# your MySQL password\n",
    "    database=\"lab\"           # your database name\n",
    ")\n",
    "\n",
    "# Create a cursor\n",
    "cursor = conn.cursor()\n",
    "cursor.execute(\"SELECT clientname,city, state from CLIENT_MASTER WHERE state != 'Maharashtra';\")\n",
    "for row in cursor.fetchall():\n",
    "    print(row)\n",
    "\n",
    "cursor.close()\n",
    "conn.close()\n"
   ]
  },
  {
   "cell_type": "code",
   "execution_count": 1,
   "id": "07fa6131",
   "metadata": {},
   "outputs": [
    {
     "name": "stdout",
     "output_type": "stream",
     "text": [
      "('T-Shirts', Decimal('24'))\n",
      "('Denim Shirts', Decimal('3'))\n",
      "('Pull Overs', Decimal('5'))\n",
      "('Trousers', Decimal('4'))\n",
      "('Shirts', Decimal('4'))\n",
      "('Cotton Jeans', Decimal('4'))\n",
      "('Lycra Tops', Decimal('16'))\n"
     ]
    }
   ],
   "source": [
    "# 4. Exercises on Using Having, Group By and Joins in Python IDLE:\n",
    "# a. Printing the description and total quantity sold for each product.\n",
    "\n",
    "\n",
    "import mysql.connector\n",
    "\n",
    "# Connect to MySQL\n",
    "conn = mysql.connector.connect(\n",
    "    host=\"127.0.0.1\",\n",
    "    port = 3306,        # or your MySQL server IP\n",
    "    user=\"root\",             # your MySQL username\n",
    "    password=\".@.@pP5001707\",# your MySQL password\n",
    "    database=\"lab\"           # your database name\n",
    ")\n",
    "\n",
    "# Create a cursor\n",
    "cursor = conn.cursor()\n",
    "cursor.execute(\"\"\"SELECT PRODUCT_MASTER.Discription, sum(SALES_ORDER_DETAILS.QTYORDERED) as total_quantity_sold  \n",
    "                from PRODUCT_MASTER\n",
    "                inner join SALES_ORDER_DETAILS\n",
    "                on SALES_ORDER_DETAILS.PRODUCTNO =PRODUCT_MASTER.PRODUCTNO \n",
    "                GROUP BY PRODUCT_MASTER.Discription;\"\"\")\n",
    "for row in cursor.fetchall():\n",
    "    print(row)\n",
    "\n",
    "cursor.close()\n",
    "conn.close()\n"
   ]
  },
  {
   "cell_type": "code",
   "execution_count": null,
   "id": "a1156429",
   "metadata": {},
   "outputs": [
    {
     "name": "stdout",
     "output_type": "stream",
     "text": [
      "('C00002', 'Amit Kumar', Decimal('10.0000'))\n",
      "('C00004', 'Ashwini Joshi', Decimal('1.0000'))\n",
      "('C00005', 'Hansel Colaco', Decimal('7.5000'))\n"
     ]
    }
   ],
   "source": [
    "# b. Calculating the average quantity sold for each client that has a maximum order\n",
    "# value of 15000.00.\n",
    "\n",
    "\n",
    "import mysql.connector\n",
    "\n",
    "# Connect to MySQL\n",
    "conn = mysql.connector.connect(\n",
    "    host=\"127.0.0.1\",\n",
    "    port = 3306,        # or your MySQL server IP\n",
    "    user=\"root\",             # your MySQL username\n",
    "    password=\".@.@pP5001707\",# your MySQL password\n",
    "    database=\"lab\"           # your database name\n",
    ")\n",
    "\n",
    "# Create a cursor\n",
    "cursor = conn.cursor()\n",
    "cursor.execute(\"\"\"SELECT c.CLIENTNO, c.clientname, \n",
    "       AVG(d.QTYORDERED) AS Avg_Qty_Sold\n",
    "FROM CLIENT_MASTER c\n",
    "JOIN SALES_ORDER s ON c.CLIENTNO = s.CLIENTNO\n",
    "JOIN SALES_ORDER_DETAILS d ON s.ORDERNO = d.ORDERNO\n",
    "GROUP BY c.CLIENTNO, c.clientname\n",
    "HAVING MAX(d.QTYORDERED * d.PRODUCTRATE) <= 15000;\n",
    "\"\"\")\n",
    "for row in cursor.fetchall():\n",
    "    print(row)\n",
    "\n",
    "cursor.close()\n",
    "conn.close()"
   ]
  }
 ],
 "metadata": {
  "kernelspec": {
   "display_name": "Python 3",
   "language": "python",
   "name": "python3"
  },
  "language_info": {
   "codemirror_mode": {
    "name": "ipython",
    "version": 3
   },
   "file_extension": ".py",
   "mimetype": "text/x-python",
   "name": "python",
   "nbconvert_exporter": "python",
   "pygments_lexer": "ipython3",
   "version": "3.12.10"
  }
 },
 "nbformat": 4,
 "nbformat_minor": 5
}
