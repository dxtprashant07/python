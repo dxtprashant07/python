{
 "cells": [
  {
   "cell_type": "code",
   "execution_count": 7,
   "id": "32579eca",
   "metadata": {},
   "outputs": [
    {
     "name": "stdout",
     "output_type": "stream",
     "text": [
      "fan is on\n",
      "fan is off\n",
      "light is off\n",
      "light is on\n"
     ]
    }
   ],
   "source": [
    "# Q1. Create an abstract class Appliance with two abstract methods:\n",
    "# turn_on() and turn_off()\n",
    "# Then, create two subclasses: Fan and Light\n",
    "# Each subclass must implement the two abstract methods and demonstrate their use.\n",
    "\n",
    "\n",
    "from abc import ABC, abstractmethod\n",
    "class appliance(ABC):\n",
    "    @abstractmethod\n",
    "    def turn_on(self):\n",
    "        pass\n",
    "    @abstractmethod\n",
    "    def turn_off(self):\n",
    "        pass\n",
    "class FAN(appliance):\n",
    "    def turn_off(self):\n",
    "        print(\"fan is off\")\n",
    "        return super().turn_off()\n",
    "    def turn_on(self):\n",
    "        print(\"fan is on\")\n",
    "        return super().turn_on()\n",
    "class Light(appliance):\n",
    "    def turn_off(self):\n",
    "        print(\"light is off\")\n",
    "        return super().turn_off()\n",
    "    def turn_on(self):\n",
    "        print(\"light is on\")\n",
    "        \n",
    "\n",
    "v = FAN()\n",
    "v.turn_on()\n",
    "v.turn_off()\n",
    "\n",
    "L = Light()\n",
    "L.turn_off()\n",
    "L.turn_on()\n"
   ]
  },
  {
   "cell_type": "code",
   "execution_count": 19,
   "id": "89d3d54c",
   "metadata": {},
   "outputs": [
    {
     "name": "stdout",
     "output_type": "stream",
     "text": [
      "circle radius and area is\n",
      "circle\n",
      "452.15999999999997\n",
      "circle radius and area is\n",
      "rectangle\n",
      "144.0\n"
     ]
    }
   ],
   "source": [
    "# Q2: Create an abstract class Shape with an abstract method area() and a regular\n",
    "# method display_shape(). Implement with Circle and Rectangle class.\n",
    "\n",
    "from abc import ABC, abstractmethod\n",
    "class shape(ABC):\n",
    "    @abstractmethod\n",
    "    def area(self):\n",
    "        pass\n",
    "    def display_shape(self):\n",
    "       print( self.__class__.__name__)\n",
    "\n",
    "class circle(shape):\n",
    "    def area(self):\n",
    "        r =float(input(\"enter radius\"))\n",
    "        area = 3.14*r*r\n",
    "        print(area)\n",
    "        return super().area()\n",
    "    def display_shape(self):\n",
    "        print(\"circle radius and area is\")\n",
    "        return super().display_shape()\n",
    "    \n",
    "class rectangle(shape):\n",
    "    def area(self):\n",
    "        l =float(input(\"enter len\"))\n",
    "        b =float(input(\"enter bdth\"))\n",
    "        area = l*b\n",
    "        print(area)\n",
    "    def display_shape(self):\n",
    "        \n",
    "        print(\"circle radius and area is\")\n",
    "        return super().display_shape()\n",
    "    \n",
    "a = circle()\n",
    "\n",
    "a.display_shape()\n",
    "a.area()\n",
    "r = rectangle()\n",
    "\n",
    "r.display_shape()\n",
    "r.area()\n",
    "\n",
    "\n"
   ]
  },
  {
   "cell_type": "code",
   "execution_count": 20,
   "id": "93ac823b",
   "metadata": {},
   "outputs": [
    {
     "name": "stdout",
     "output_type": "stream",
     "text": [
      "hello\n",
      "Name\n"
     ]
    }
   ],
   "source": [
    "# Q3. Create a decorator called greet_decorator that prints &quot;Hello!&quot; before calling the\n",
    "# actual function.\n",
    "\n",
    "\n",
    "def greet_decorator(func):\n",
    "    def wrapper():\n",
    "        print(\"hello\")\n",
    "        func()\n",
    "    return wrapper\n",
    "\n",
    "@greet_decorator\n",
    "def greet():\n",
    "    print(\"Name\")\n",
    "\n",
    "greet()\n",
    "\n",
    "\n"
   ]
  },
  {
   "cell_type": "code",
   "execution_count": 8,
   "id": "265af772",
   "metadata": {},
   "outputs": [
    {
     "name": "stdout",
     "output_type": "stream",
     "text": [
      "function calling argument 21 ujh\n",
      "after \n"
     ]
    }
   ],
   "source": [
    "# Q4: Create a decorator log_arguments that prints the function arguments before calling it.\n",
    "\n",
    "def log_arguments(func):\n",
    "    def wrapper(*args, **kwargs):\n",
    "        print(\"function calling argument\", *args,**kwargs)\n",
    "        func(*args,**kwargs)\n",
    "    return wrapper\n",
    "@log_arguments\n",
    "def arguments(a,b):\n",
    "    print(\"after \")\n",
    "a =int(input(\"enter\"))\n",
    "b= input(\"enter\")\n",
    "\n",
    "arguments(a,b)"
   ]
  },
  {
   "cell_type": "code",
   "execution_count": 16,
   "id": "b02e68ce",
   "metadata": {},
   "outputs": [
    {
     "name": "stdout",
     "output_type": "stream",
     "text": [
      "calling method: log1\n",
      "my name is \n",
      "hello\n"
     ]
    }
   ],
   "source": [
    "# Q5. Create a log_method_call decorator that logs method name when called from a\n",
    "# class.\n",
    "# [Hint: func.__name__ may be used to return calling method name]\n",
    "\n",
    "\n",
    "def log_method_call(func):\n",
    "    def wrapper(*args,**kwargs):\n",
    "        print(\"calling method:\",func.__name__)\n",
    "        func(*args,**kwargs)\n",
    "        print(\"hello\")\n",
    "    return wrapper\n",
    "class log:\n",
    "    @log_method_call\n",
    "    def log1(self):\n",
    "        print(\"my name is \")\n",
    "\n",
    "\n",
    "l= log()\n",
    "l.log1()\n",
    "\n",
    "\n",
    "\n"
   ]
  },
  {
   "cell_type": "markdown",
   "id": "5cc8298c",
   "metadata": {},
   "source": [
    "#ERRORHANDLING\n"
   ]
  },
  {
   "cell_type": "code",
   "execution_count": 10,
   "id": "952ae5d6",
   "metadata": {},
   "outputs": [
    {
     "name": "stdout",
     "output_type": "stream",
     "text": [
      "Error: Division by zero is not allowed. division by zero\n"
     ]
    }
   ],
   "source": [
    "#Q1: Write a function to compute 5/0 and use try/except to catch the exceptions.\n",
    "\n",
    "try:\n",
    "    def div():\n",
    "        return 5/0\n",
    "    div()\n",
    "except ZeroDivisionError as ex :\n",
    "    print(\"Error: Division by zero is not allowed.\", ex)"
   ]
  },
  {
   "cell_type": "code",
   "execution_count": 16,
   "id": "10b4a9c3",
   "metadata": {},
   "outputs": [
    {
     "name": "stdout",
     "output_type": "stream",
     "text": [
      "out of index list index out of range\n"
     ]
    }
   ],
   "source": [
    "# # Q2: Write a Python program to access the array element whose index is out of bound and handle\n",
    "# the corresponding exception\n",
    "\n",
    "\n",
    "\n",
    "try:\n",
    "    a = [1,2,3,4,5]\n",
    "    print(a[8])\n",
    "except IndexError as ex:\n",
    "    print(\"out of index\",ex)\n"
   ]
  },
  {
   "cell_type": "code",
   "execution_count": null,
   "id": "7f43c5e5",
   "metadata": {},
   "outputs": [
    {
     "name": "stdout",
     "output_type": "stream",
     "text": [
      "file does not exist [Errno 2] No such file or directory: 'asdf'\n",
      "value error invalid literal for int() with base 10: '12312was'\n"
     ]
    }
   ],
   "source": [
    "# Q3: Write a program that asks the user for a file name and tries to open the file. If the file doesn&#39;t\n",
    "# exist, handle the FileNotFoundError. Also, handle the case where the user enters non-numeric\n",
    "# data for the file content using a ValueError.\n",
    "\n",
    "file_name  = input(\"enter the file name\")\n",
    "try:\n",
    "    \n",
    "    f = open(file_name,'r')\n",
    "except FileNotFoundError as ex:\n",
    "    print(\"file does not exist\",ex)\n",
    "\n",
    "try:\n",
    "    f = open(file_name,'w')\n",
    "    lines = input(\"enter string\")\n",
    "\n",
    "    f.writelines(int(lines))\n",
    "except ValueError as ex:\n",
    "    print(\"value error\",ex)"
   ]
  },
  {
   "cell_type": "code",
   "execution_count": null,
   "id": "a755f0bd",
   "metadata": {},
   "outputs": [
    {
     "name": "stdout",
     "output_type": "stream",
     "text": [
      "age is invalid\n",
      "invalidage None\n"
     ]
    }
   ],
   "source": [
    "# # Q4: Write a custom exception InvalidAgeError that will be raised if a user inputs an age less than\n",
    "# 0 or greater than 150. Implement exception handling to handle this custom exception.\n",
    "\n",
    "\n",
    "class InvalidAgeError(Exception):\n",
    "    def __init__(self,age):\n",
    "        self.age = age\n",
    "        message = print(\"age is invalid\")\n",
    "        super().__init__(message)\n",
    "\n",
    "try:\n",
    "    age = int(input(\"enter the age\"))\n",
    "    if age < 0 or age > 150:\n",
    "\n",
    "        \n",
    "        raise InvalidAgeError(age)\n",
    "    print(\"age is valid\",age)\n",
    "except InvalidAgeError as ex :\n",
    "    print(\"invalidage\",ex)"
   ]
  },
  {
   "cell_type": "code",
   "execution_count": 21,
   "id": "d4a2e02e",
   "metadata": {},
   "outputs": [
    {
     "name": "stdout",
     "output_type": "stream",
     "text": [
      "can't divide by zero division by zero\n",
      "operation complete\n"
     ]
    }
   ],
   "source": [
    "# Q5: Write a Python program that asks the user for two numbers, performs division, and uses a try\n",
    "# block to catch ZeroDivisionError. If no exception occurs, the else block should print the result.\n",
    "# The finally block should always print &quot;Operation Complete.&quot;\n",
    "\n",
    "try:\n",
    "    i = int(input(\"enter the number\"))\n",
    "    j =int(input(\"enter the number\"))\n",
    "    k = i/j\n",
    "except ZeroDivisionError as ex:\n",
    "    print(\"can't divide by zero\", ex)\n",
    "\n",
    "else :\n",
    "    print(\"the result is \", k)\n",
    "\n",
    "finally:\n",
    "    print(\"operation complete\")\n",
    "\n",
    "\n"
   ]
  },
  {
   "cell_type": "code",
   "execution_count": 1,
   "id": "8d7c43d8",
   "metadata": {},
   "outputs": [
    {
     "name": "stdout",
     "output_type": "stream",
     "text": [
      "type error empty string\n"
     ]
    }
   ],
   "source": [
    "# Q6: Write a program that attempts to convert a string into an integer using int(). If the input is\n",
    "# not a valid integer, handle the ValueError. If the input is an empty string, handle the TypeError.\n",
    "\n",
    "try:\n",
    "    string = input(\"enter the string\")\n",
    "    if string == \"\":\n",
    "        raise TypeError(\"empty string\")\n",
    "    x = int(string)\n",
    "    print(\"the integer value is \",x)\n",
    "\n",
    "\n",
    "\n",
    "except ValueError as ex:\n",
    "    print(\"value error\",ex)\n",
    "\n",
    "except TypeError as ex:\n",
    "    print(\"type error\",ex)\n",
    "\n"
   ]
  },
  {
   "cell_type": "code",
   "execution_count": 8,
   "id": "aed90e75",
   "metadata": {},
   "outputs": [
    {
     "name": "stdout",
     "output_type": "stream",
     "text": [
      "Error: Division by zero is not allowed. b is zero\n",
      "runtime error extra info\n"
     ]
    }
   ],
   "source": [
    "# Q7: Write a function that calls another function which raises an exception. In the outer function,\n",
    "# catch that exception and raise a new exception with additional information, preserving the\n",
    "# original exception.\n",
    "\n",
    "\n",
    "def  inner_function():\n",
    "    a = 10\n",
    "    b = 0  # ZeroDivisionError\n",
    "    if b==0:\n",
    "        raise ZeroDivisionError(\"b is zero\")\n",
    "    print(a/b)\n",
    "\n",
    "\n",
    "def outer_function():\n",
    "    try:\n",
    "        inner_function()\n",
    "    except ZeroDivisionError as ex :\n",
    "        print(\"Error: Division by zero is not allowed.\", ex)\n",
    "        raise  RuntimeError(\"extra info\") from ex\n",
    "\n",
    "try:   \n",
    "    outer_function()\n",
    "except RuntimeError as e:\n",
    "    print(\"runtime error\",e)\n",
    "\n",
    "\n",
    "\n",
    "    \n"
   ]
  },
  {
   "cell_type": "code",
   "execution_count": 21,
   "id": "0ca878f5",
   "metadata": {},
   "outputs": [
    {
     "name": "stdout",
     "output_type": "stream",
     "text": [
      "An error occurred: list index out of range\n",
      "error occurred 'key3'\n"
     ]
    }
   ],
   "source": [
    "# Q8: Write a program that handles both IndexError and KeyError using a single except block. The\n",
    "# program should simulate accessing an element in a list and a key in a dictionary and handle both\n",
    "# exceptions gracefully.\n",
    "\n",
    "\n",
    "# try:\n",
    "#     k = [1,2,3,4,5,6,7,8,9]\n",
    "#     d = {'key1': 'value1', 'key2': 'value2'}\n",
    "#     print(k[10])\n",
    "# except (IndexError,KeyError) as ex:\n",
    "#     print(\"An error occurred:\", ex)\n",
    "#     print(d['key3'])\n",
    "# except (IndexError,KeyError) as ex:\n",
    "#     print(\"An error occurred:\", ex)\n",
    "\n",
    "\n",
    "\n",
    "\n",
    "k = [1,2,3,4,5,6,7,8,9]\n",
    "d = {'key1': 'value1', 'key2': 'value2'}\n",
    "try:\n",
    "        print(k[10])   # IndexError         \n",
    "        print(d['key3'])  # KeyError\n",
    "except (IndexError,KeyError) as ex:\n",
    "    print(\"An error occurred:\", ex)\n",
    "\n",
    "try:\n",
    "    print(d['key3'])  # KeyError\n",
    "except (IndexError,KeyError) as ex:\n",
    "     print(\"error occurred\", ex)"
   ]
  },
  {
   "cell_type": "code",
   "execution_count": 5,
   "id": "398e4f27",
   "metadata": {},
   "outputs": [
    {
     "name": "stdout",
     "output_type": "stream",
     "text": [
      "non-numeric data\n",
      "non-numeric data\n",
      "non-numeric data\n",
      "non-numeric data\n",
      "non-numeric data\n",
      "non-numeric data\n",
      "non-numeric data\n",
      "non-numeric data\n",
      "non-numeric data\n",
      "non-numeric data\n",
      "non-numeric data\n",
      "non-numeric data\n",
      "non-numeric data\n",
      "12234243242\n",
      "234234234\n",
      "234242\n",
      "32\n"
     ]
    }
   ],
   "source": [
    "# Q9: Write a Python program that reads a file and processes each line as an integer. If the\n",
    "# conversion fails due to non-numeric data, use a nested try-except to handle the exception for that\n",
    "# line without terminating the program.\n",
    "\n",
    "try:\n",
    "    file_name = input(\"enter the file name\")\n",
    "    f = open(file_name,\"r\")\n",
    "    lines = f.readlines()\n",
    "    for line in lines:\n",
    "        try:\n",
    "            x =int(line)\n",
    "            print(x)\n",
    "        except ValueError:\n",
    "            print(\"non-numeric data\")\n",
    "        \n",
    "\n",
    "except FileNotFoundError:\n",
    "    print(\"file not found\")\n",
    "\n",
    "\n",
    "\n",
    " \n",
    "\n",
    "\n"
   ]
  },
  {
   "cell_type": "code",
   "execution_count": 28,
   "id": "6eb189cb",
   "metadata": {},
   "outputs": [
    {
     "name": "stdout",
     "output_type": "stream",
     "text": [
      "file is not writable not writable\n"
     ]
    }
   ],
   "source": [
    "# Q10: Try to open and write to a file that is not writable:\n",
    "import io\n",
    "file_name  = input(\"enter the file name\")\n",
    "try:\n",
    "    \n",
    "    f = open(file_name,'r')\n",
    "    f.write(\"aksdasjdkabsfk\")\n",
    "\n",
    "except io.UnsupportedOperation as ex:\n",
    "    print(\"file is not writable\",ex)\n",
    "\n"
   ]
  },
  {
   "cell_type": "code",
   "execution_count": 22,
   "id": "5ec3a0d5",
   "metadata": {},
   "outputs": [
    {
     "name": "stdout",
     "output_type": "stream",
     "text": [
      "error\n"
     ]
    }
   ],
   "source": [
    "#Q11: Write a python program to raise an error and stop the program if x is lower than 0.\n",
    "x = int(input(\"input\"))\n",
    "try:\n",
    "    if not isinstance(x, int):\n",
    "        raise TypeError(\"x must be an integer\")\n",
    "    if x <0:\n",
    "        raise ValueError(\"error\")\n",
    "    print(x)\n",
    "except ValueError as ex:\n",
    "    print(ex)\n",
    "\n"
   ]
  },
  {
   "cell_type": "code",
   "execution_count": 12,
   "id": "d29078e1",
   "metadata": {},
   "outputs": [
    {
     "name": "stdout",
     "output_type": "stream",
     "text": [
      "type error \n"
     ]
    }
   ],
   "source": [
    "#Q12: Write a python program to raise a TypeError if x is not an integer:\n",
    "\n",
    "try:\n",
    "    x =(input(\"enter num\"))\n",
    "    \n",
    "    if not x.isdigit():\n",
    "        raise TypeError\n",
    "    x = int(x)\n",
    "    print(x)\n",
    "\n",
    "except TypeError as ex:\n",
    "    print(\"type error\", ex)\n",
    "\n"
   ]
  },
  {
   "cell_type": "code",
   "execution_count": null,
   "id": "12ba0cef",
   "metadata": {},
   "outputs": [],
   "source": []
  },
  {
   "cell_type": "code",
   "execution_count": null,
   "id": "8224f6f0",
   "metadata": {},
   "outputs": [],
   "source": []
  },
  {
   "cell_type": "code",
   "execution_count": null,
   "id": "d44c8489",
   "metadata": {},
   "outputs": [],
   "source": []
  }
 ],
 "metadata": {
  "kernelspec": {
   "display_name": "Python 3",
   "language": "python",
   "name": "python3"
  },
  "language_info": {
   "codemirror_mode": {
    "name": "ipython",
    "version": 3
   },
   "file_extension": ".py",
   "mimetype": "text/x-python",
   "name": "python",
   "nbconvert_exporter": "python",
   "pygments_lexer": "ipython3",
   "version": "3.12.10"
  }
 },
 "nbformat": 4,
 "nbformat_minor": 5
}
