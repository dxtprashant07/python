{
 "cells": [
  {
   "cell_type": "code",
   "execution_count": null,
   "id": "cef70f1c",
   "metadata": {},
   "outputs": [],
   "source": [
    "# How would you remove duplicate rows from a DataFrame in Pandas?\n",
    "\n",
    "import pandas as pd\n",
    "df = pd.read_csv(\"Salaries.csv\")\n",
    "df.info()"
   ]
  }
 ],
 "metadata": {
  "kernelspec": {
   "display_name": "Python 3",
   "language": "python",
   "name": "python3"
  },
  "language_info": {
   "name": "python",
   "version": "3.12.10"
  }
 },
 "nbformat": 4,
 "nbformat_minor": 5
}
