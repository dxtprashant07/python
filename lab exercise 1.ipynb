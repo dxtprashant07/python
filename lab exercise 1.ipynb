{
 "cells": [
  {
   "cell_type": "code",
   "execution_count": null,
   "id": "8f568f52",
   "metadata": {},
   "outputs": [],
   "source": [
    "# #1.Q1: Write a Python program which accept the radius of a circle from the user and compute\n",
    "# the area.\n",
    "# Sample Output :\n",
    "# r = 1.1\n",
    "# Area = 3.8013271108436504\n",
    "\n",
    "\n",
    "import math\n",
    "r = float(input(\"enter the value\"))\n",
    "area = math.pi* (r**2)\n",
    "print (area)\n"
   ]
  },
  {
   "cell_type": "code",
   "execution_count": null,
   "id": "7f64a69a",
   "metadata": {},
   "outputs": [],
   "source": [
    "# Q2: Temperature of a city in Fahrenheit degrees is input through the keyboard. Write a\n",
    "# program to convert this temperature into Centigrade degrees.\t\n",
    "\n",
    "F = float(input(\"enter the temp\"))\n",
    "C = (5/9)*(F-32)\n",
    "print(\"the temp in centigrade is \", C)"
   ]
  },
  {
   "cell_type": "code",
   "execution_count": null,
   "id": "317a4825",
   "metadata": {},
   "outputs": [],
   "source": [
    "# Q3: Write a Python Program to make a simple calculator that can add, subtract, multiply and\n",
    "# divide\n",
    "\n",
    "a =float(input(\"enter the value\"))\n",
    "b =float(input(\"enter the value\"))\n",
    "result = input(\"enter the operation\")\n",
    "add = a+b\n",
    "subtract = a-b\n",
    "multiply = a*b\n",
    "divide = a/b\n",
    "if result == \"+\" :\n",
    "\t\tprint (\"addition is \" ,add)\n",
    "elif result == \"-\":\n",
    "\t\tprint (\"addition is \" ,subtract)\n",
    "elif result == \"*\":\n",
    "\t\tprint (\"addition is \" ,multiply)\n",
    "else:\n",
    "\t\tprint (\"addition is \" ,divide)"
   ]
  },
  {
   "cell_type": "code",
   "execution_count": null,
   "id": "08994f9b",
   "metadata": {},
   "outputs": [],
   "source": [
    "#Q4: Write a Python Program to calculate the square root \n",
    "\n",
    "import math\n",
    "number = int (input (\"enter the value\"))\n",
    "root = math.sqrt(number)\n",
    "print (\"the square root is\" , root)"
   ]
  },
  {
   "cell_type": "code",
   "execution_count": null,
   "id": "ac1d6d2c",
   "metadata": {},
   "outputs": [],
   "source": [
    "# Q5: Write a Python Program to Solve the quadratic equation ax**2 + bx + c = 0\n",
    "# Coeffients a, b and c are provided by the user\n",
    "# [Hint: import complex math module - import cmath]\n",
    "\n",
    "import cmath\n",
    "a = int (input (\"enter the value\"))\n",
    "b = int (input (\"enter the value\"))\n",
    "c = int (input (\"enter the value\"))\n",
    "\n",
    "x1 = -b + cmath.sqrt(b**2 - 4*a*c) / (2*a)\n",
    "x2 = -b - cmath.sqrt(b**2 - 4*a*c) / (2*a)\n",
    "print (\"the result is\", x1, x2)"
   ]
  },
  {
   "cell_type": "code",
   "execution_count": null,
   "id": "9e99cb49",
   "metadata": {},
   "outputs": [],
   "source": [
    "# Q6: Write a Python Program to find the area of triangle\n",
    "# Three sides of the triangle a, b and c are provided by the user\n",
    "\n",
    "import math\n",
    "a = float (input (\"enter the value\"))\n",
    "b = float (input (\"enter the value\"))\n",
    "c = float (input (\"enter the value\"))\n",
    "\n",
    "s = (a+b+c)/2\n",
    "area =math.sqrt(s*(s-a)*(s-b)*(s-c))\n",
    "print(\"area is \" , area)"
   ]
  },
  {
   "cell_type": "code",
   "execution_count": null,
   "id": "f48be521",
   "metadata": {},
   "outputs": [],
   "source": [
    "# Q7: If a five-digit number is input through the keyboard, write a program to calculate the sum\n",
    "# of its digits without using any loop. (Hint: Use the modulus operator ‘%’)      \n",
    "\n",
    "n = int(input(\"enter the number\"))\n",
    "a = n%10\n",
    "b = (n//10)%10\n",
    "c = (n//100)%10\n",
    "d = (n//1000)%10\n",
    "e = (n//10000)%10\n",
    "\n",
    "add = a+b+c+d+e\n",
    "print(add)"
   ]
  },
  {
   "cell_type": "code",
   "execution_count": null,
   "id": "dfa74297",
   "metadata": {},
   "outputs": [],
   "source": [
    "# Q8: Write a Python program to print the following string in a specific format\n",
    "\n",
    "string =\"\"\"twinkle, twinkle little star,\n",
    "        \t\t    how i wonder what you are\n",
    "                \t\tup above the world so high,\n",
    "                \t\tlike a diamond in the sky\n",
    "\t\t\ttwinkle, twinkle little star,\n",
    "        \t\t    how i wonder what you are\"\"\"\n",
    "\n",
    "print(string)"
   ]
  },
  {
   "cell_type": "code",
   "execution_count": null,
   "id": "d5790889",
   "metadata": {},
   "outputs": [],
   "source": [
    "# Q9: Write a Python program to display your details like name, age, and address in three\n",
    "# different lines.\n",
    "mydetail = \"my name is prashant \\n my age is 23 \\n address is agra\"\n",
    "print(mydetail)"
   ]
  },
  {
   "cell_type": "code",
   "execution_count": null,
   "id": "9d21005a",
   "metadata": {},
   "outputs": [],
   "source": [
    "# Q10.Create a string containing both a single quote and double quote\n",
    "\n",
    "string = \"my name is 'prashant dixit' , and i live in 'agra'\"\n",
    "print(string)"
   ]
  },
  {
   "cell_type": "code",
   "execution_count": null,
   "id": "e450f527",
   "metadata": {},
   "outputs": [],
   "source": [
    "# Q11.Create a triple quoted string that contains single and double quotes.\n",
    "\n",
    "strin = \"\"\"my name is \"prashant dixit\" , and i live in 'agra' \"\"\"\n",
    "print(strin)"
   ]
  },
  {
   "cell_type": "code",
   "execution_count": null,
   "id": "5f42095a",
   "metadata": {},
   "outputs": [],
   "source": [
    "#Q12.Create a character, then obtain its integer representation. \n",
    "a = input()\n",
    "b = ord(a)\n",
    "print(b)\n"
   ]
  },
  {
   "cell_type": "code",
   "execution_count": null,
   "id": "0de65581",
   "metadata": {},
   "outputs": [],
   "source": [
    "# Q13.Create a single string containing 5 copies of the string &#39;abc&#39;.\n",
    "\n",
    "strin = \"abc\"*5\n",
    "print(strin)\n",
    "\n"
   ]
  },
  {
   "cell_type": "code",
   "execution_count": null,
   "id": "358473a4",
   "metadata": {},
   "outputs": [],
   "source": [
    "# Q14.Use the multiplication operator to create a &quot;line&quot; of 50 dashes.\t\n",
    "\n",
    "strin = \"-\"*50\n",
    "print(strin)\n",
    "\n",
    "\n"
   ]
  },
  {
   "cell_type": "code",
   "execution_count": null,
   "id": "dc929e70",
   "metadata": {},
   "outputs": [],
   "source": [
    "# Q15.Convert a string to all upper case.\n",
    "\t\n",
    "strin = \"abcd\"\n",
    "\n",
    "print(str.upper(strin))\n",
    "\n"
   ]
  },
  {
   "cell_type": "code",
   "execution_count": null,
   "id": "55e65a15",
   "metadata": {},
   "outputs": [],
   "source": [
    "#Q16 : Write a Python program to get a string made of the first 2 and the last 2 chars from a\n",
    "# given a string.\n",
    "  \n",
    "string = \"cdac noida\"\n",
    "string1 = string[0:2]+string[8:10]\n",
    "print(string1)\n"
   ]
  },
  {
   "cell_type": "code",
   "execution_count": null,
   "id": "c17e54ca",
   "metadata": {},
   "outputs": [],
   "source": [
    "# Q17: a Python program to get a string from a given string where all occurrences of its first\n",
    "# char have been changed to &#39;$&#39;, except the first char itself.\n",
    "# Sample String : &#39;restart&#39;\n",
    "# Expected Result : &#39;resta$t&#39;  \n",
    "\n",
    "\n",
    "string = \"restart\"\n",
    "string1 = string[0:5] + \"$\" + string[-1]\n",
    "print(string1)\n",
    "\n"
   ]
  },
  {
   "cell_type": "code",
   "execution_count": null,
   "id": "70e7117f",
   "metadata": {},
   "outputs": [],
   "source": [
    "# Q18: Write a Python program to get a single string from two given strings, separated by a\n",
    "# space and swap the first two characters of each string.\n",
    "# Sample String : &#39;abc&#39;, &#39;xyz&#39; \n",
    "# Expected Result : &#39;xyc abz&#39;\n",
    "\n",
    "\n",
    "\n",
    "\n",
    "string1 = 'abc'\n",
    "string2 = 'xyz'\n",
    "\n",
    "string = string2[0:2] + string1[2] +' '+ string1[0:2] + string2[2]\n",
    "name = string1[1]\n",
    "print(string)\t"
   ]
  }
 ],
 "metadata": {
  "language_info": {
   "name": "python"
  }
 },
 "nbformat": 4,
 "nbformat_minor": 5
}
